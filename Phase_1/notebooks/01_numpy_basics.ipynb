{
 "cells": [
  {
   "cell_type": "code",
   "execution_count": 2,
   "metadata": {},
   "outputs": [],
   "source": [
    "import numpy as np"
   ]
  },
  {
   "cell_type": "code",
   "execution_count": null,
   "metadata": {},
   "outputs": [
    {
     "name": "stdout",
     "output_type": "stream",
     "text": [
      "[[-0.38153679 -0.02875454 -1.4949321   1.44674867]\n",
      " [-0.3674659  -0.6970477  -1.16935636 -0.86384615]\n",
      " [-0.58955648  0.78864445  0.42396542  0.13098191]]\n"
     ]
    }
   ],
   "source": [
    "a = np.random.randn(3, 4) # Matrice de 3 par 4\n",
    "print(a)"
   ]
  },
  {
   "cell_type": "code",
   "execution_count": null,
   "metadata": {},
   "outputs": [
    {
     "name": "stdout",
     "output_type": "stream",
     "text": [
      "[-2.071012   -0.05078264 -0.53175908  0.96689732]\n"
     ]
    }
   ],
   "source": [
    "b = np.random.randn(4) # Matrice de 4 par 1\n",
    "print(b)"
   ]
  },
  {
   "cell_type": "code",
   "execution_count": 5,
   "metadata": {},
   "outputs": [
    {
     "name": "stdout",
     "output_type": "stream",
     "text": [
      "[[-2.45254878 -0.07953718 -2.02669118  2.41364599]\n",
      " [-2.43847789 -0.74783034 -1.70111544  0.10305117]\n",
      " [-2.66056847  0.73786182 -0.10779367  1.09787923]]\n"
     ]
    }
   ],
   "source": [
    "c = a + b        # broadcasting colonne\n",
    "print(c)"
   ]
  },
  {
   "cell_type": "code",
   "execution_count": null,
   "metadata": {},
   "outputs": [
    {
     "name": "stdout",
     "output_type": "stream",
     "text": [
      "[2.98542863 0.58298954 1.08212769]\n"
     ]
    }
   ],
   "source": [
    "d = a @ b        # produit matriciel\n",
    "print(d)\n",
    "\n",
    "# Pour faire un produit matriciel, le nombre de colonne de A doit \n",
    "# être équivalent au nombre de ligne de B. Il s'agit ensuite d'un produite\n",
    "# scalaire"
   ]
  },
  {
   "cell_type": "code",
   "execution_count": 9,
   "metadata": {},
   "outputs": [
    {
     "name": "stdout",
     "output_type": "stream",
     "text": [
      "SVDResult(U=array([[ 0.91662018,  0.39939783, -0.01699484],\n",
      "       [ 0.36754731, -0.82527942,  0.42874567],\n",
      "       [-0.1572146 ,  0.39924334,  0.90326537]]), S=array([2.18629706, 1.69455384, 0.85080215]), Vh=array([[-0.17934367, -0.18594976, -0.85383285,  0.45191591],\n",
      "       [-0.04986529,  0.51850561,  0.3170383 ,  0.79256047],\n",
      "       [-0.80346671,  0.48658518, -0.10930517, -0.32515919],\n",
      "       [-0.56550027, -0.67809254,  0.39813133,  0.24877984]]))\n"
     ]
    }
   ],
   "source": [
    "e = np.linalg.svd(a)  # valeurs singulières\n",
    "print(e)"
   ]
  },
  {
   "cell_type": "code",
   "execution_count": null,
   "metadata": {},
   "outputs": [],
   "source": []
  }
 ],
 "metadata": {
  "kernelspec": {
   "display_name": ".venv",
   "language": "python",
   "name": "python3"
  },
  "language_info": {
   "codemirror_mode": {
    "name": "ipython",
    "version": 3
   },
   "file_extension": ".py",
   "mimetype": "text/x-python",
   "name": "python",
   "nbconvert_exporter": "python",
   "pygments_lexer": "ipython3",
   "version": "3.11.12"
  }
 },
 "nbformat": 4,
 "nbformat_minor": 2
}
