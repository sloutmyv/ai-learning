{
 "cells": [
  {
   "cell_type": "code",
   "execution_count": 1,
   "metadata": {},
   "outputs": [],
   "source": [
    "import numpy as np\n",
    "\n",
    "def poly_features(x: np.ndarray, degree: int, include_bias: bool = False) -> np.ndarray:\n",
    "    \"\"\"\n",
    "    Génère une matrice de caractéristiques polynomiales à partir d'un vecteur 1‑D.\n",
    "\n",
    "    Paramètres\n",
    "    ----------\n",
    "    x : np.ndarray, shape (n,)\n",
    "        Données d'entrée.\n",
    "    degree : int ≥ 1\n",
    "        Degré polynomial maximal (x¹ … x^degree).\n",
    "    include_bias : bool, default False\n",
    "        Si True, ajoute une 1ʳᵉ colonne de 1 (terme biais/constante).\n",
    "\n",
    "    Retour\n",
    "    ------\n",
    "    X_poly : np.ndarray, shape (n, degree + include_bias)\n",
    "        Matrice des puissances de x, sans boucle Python.\n",
    "    \"\"\"\n",
    "    x = np.asarray(x).reshape(-1)                 # garantit un vecteur 1‑D\n",
    "    exponents = np.arange(1, degree + 1)          # [1, 2, …, degree]\n",
    "    X_poly = x[:, None] ** exponents              # broadcasting : (n,1) ** (degree,) -> (n, degree)\n",
    "    if include_bias:\n",
    "        X_poly = np.column_stack([np.ones_like(x), X_poly])\n",
    "    return X_poly"
   ]
  },
  {
   "cell_type": "code",
   "execution_count": 2,
   "metadata": {},
   "outputs": [],
   "source": [
    "x = np.array([1., 2., 3.])"
   ]
  },
  {
   "cell_type": "code",
   "execution_count": 3,
   "metadata": {},
   "outputs": [
    {
     "name": "stdout",
     "output_type": "stream",
     "text": [
      "[[ 1.  1.  1.]\n",
      " [ 2.  4.  8.]\n",
      " [ 3.  9. 27.]]\n"
     ]
    }
   ],
   "source": [
    "y = poly_features(x, 3)\n",
    "print(y)"
   ]
  },
  {
   "cell_type": "code",
   "execution_count": 4,
   "metadata": {},
   "outputs": [
    {
     "name": "stdout",
     "output_type": "stream",
     "text": [
      "[[ 1.  1.  1.  1.]\n",
      " [ 1.  2.  4.  8.]\n",
      " [ 1.  3.  9. 27.]]\n"
     ]
    }
   ],
   "source": [
    "y1 = poly_features(x, 3, include_bias=True)\n",
    "print(y1)"
   ]
  },
  {
   "cell_type": "markdown",
   "metadata": {},
   "source": [
    "## Comment ce petit exercice s’inscrit dans la formation\n",
    "1. Vectorisation & Broadcasting\n",
    "La logique est exactement la même que dans PyTorch : un tenseur (n,1) multiplié par (degree,) produit (n, degree) sans for‑loop Python.\n",
    "Savoir raisonner en termes de shape et de broadcast est indispensable quand nous passerons aux tensors PyTorch à la phase 3.\n",
    "2. Ingénierie de caractéristiques\n",
    "Avant d’aborder les réseaux de neurones, vous verrez en phase 2 (machine‑learning « classique ») que la régression polynomiale est un bon laboratoire pour parler de sur‑apprentissage et de validation croisée.\n",
    "Cette fonction est l’équivalent allégé de sklearn.preprocessing.PolynomialFeatures, mais comprendre sa construction vous rend autonome.\n",
    "3. Performance & bonnes pratiques\n",
    "Supprimer les boucles Python → 10‑100× plus rapide et libère le GIL ; même philosophie que dans les frameworks DL.\n",
    "Code compact, lisible et testé : dès la phase 1 nous prenons l’habitude d’écrire des utilitaires réutilisables et de les valider."
   ]
  },
  {
   "cell_type": "code",
   "execution_count": 5,
   "metadata": {},
   "outputs": [],
   "source": [
    "import numpy as np\n",
    "from itertools import combinations_with_replacement\n",
    "\n",
    "def poly_features(X: np.ndarray, degree: int, include_bias: bool = False) -> np.ndarray:\n",
    "    \"\"\"\n",
    "    Étend un jeu de caractéristiques (n, d_in) en toutes les combinaisons polynomiales\n",
    "    jusqu'au degré 'degree' inclus, façon scikit‑learn PolynomialFeatures.\n",
    "\n",
    "    Paramètres\n",
    "    ----------\n",
    "    X : np.ndarray, shape (n_samples, d_in)\n",
    "        Matrice d'entrée.\n",
    "    degree : int ≥ 1\n",
    "        Degré polynomial maximal.\n",
    "    include_bias : bool, default False\n",
    "        Ajoute une colonne de 1 (terme biais) si True.\n",
    "\n",
    "    Retour\n",
    "    ------\n",
    "    X_poly : np.ndarray, shape (n_samples, d_out)\n",
    "        Matrice contenant chaque monôme x₁^a · x₂^b · …, pour\n",
    "        toutes les combinaisons de puissances dont a+b+… ≤ degree.\n",
    "    \"\"\"\n",
    "    X = np.asarray(X, dtype=float)\n",
    "    if X.ndim == 1:\n",
    "        X = X[:, None]                      # force (n, 1)\n",
    "\n",
    "    n_samples, n_features = X.shape\n",
    "\n",
    "    # 1. Générer les combinaisons d’indices (avec répétitions) jusqu'au degré demandé\n",
    "    combs = [\n",
    "        comb\n",
    "        for deg in range(1, degree + 1)\n",
    "        for comb in combinations_with_replacement(range(n_features), deg)\n",
    "    ]\n",
    "\n",
    "    # 2. Convertir les combinaisons en matrice d'exposants (n_terms, d_in)\n",
    "    #    ex: pour d_in=3 et comb=(0,2,2)  -> [1,0,2]\n",
    "    exponents = np.zeros((len(combs), n_features), dtype=int)\n",
    "    for i, comb in enumerate(combs):\n",
    "        exponents[i, np.bincount(comb, minlength=n_features).nonzero()] = \\\n",
    "            np.bincount(comb, minlength=n_features)\n",
    "\n",
    "    # 3. Calcul vectorisé des puissances :\n",
    "    #      X[..., None]    -> (n_samples, d_in, 1)\n",
    "    #      exponents.T     -> (d_in, n_terms)\n",
    "    #      => broadcasting produit (n_samples, d_in, n_terms)\n",
    "    powered = X[..., None] ** exponents.T\n",
    "\n",
    "    # 4. Produit sur l'axe des variables pour obtenir chaque monôme\n",
    "    X_poly = powered.prod(axis=1)           # (n_samples, n_terms)\n",
    "\n",
    "    if include_bias:\n",
    "        X_poly = np.column_stack([np.ones((n_samples, 1)), X_poly])\n",
    "\n",
    "    return X_poly"
   ]
  },
  {
   "cell_type": "code",
   "execution_count": 6,
   "metadata": {},
   "outputs": [
    {
     "ename": "ValueError",
     "evalue": "shape mismatch: value array of shape (2,) could not be broadcast to indexing result of shape (1,1)",
     "output_type": "error",
     "traceback": [
      "\u001b[31m---------------------------------------------------------------------------\u001b[39m",
      "\u001b[31mValueError\u001b[39m                                Traceback (most recent call last)",
      "\u001b[36mCell\u001b[39m\u001b[36m \u001b[39m\u001b[32mIn[6]\u001b[39m\u001b[32m, line 4\u001b[39m\n\u001b[32m      1\u001b[39m \u001b[38;5;66;03m# Deux variables, degré 2\u001b[39;00m\n\u001b[32m      2\u001b[39m X = np.array([[\u001b[32m1.\u001b[39m, \u001b[32m2.\u001b[39m],\n\u001b[32m      3\u001b[39m               [\u001b[32m3.\u001b[39m, \u001b[32m4.\u001b[39m]])\n\u001b[32m----> \u001b[39m\u001b[32m4\u001b[39m Xp = \u001b[43mpoly_features\u001b[49m\u001b[43m(\u001b[49m\u001b[43mX\u001b[49m\u001b[43m,\u001b[49m\u001b[43m \u001b[49m\u001b[43mdegree\u001b[49m\u001b[43m=\u001b[49m\u001b[32;43m2\u001b[39;49m\u001b[43m,\u001b[49m\u001b[43m \u001b[49m\u001b[43minclude_bias\u001b[49m\u001b[43m=\u001b[49m\u001b[38;5;28;43;01mTrue\u001b[39;49;00m\u001b[43m)\u001b[49m\n\u001b[32m      6\u001b[39m \u001b[38;5;66;03m# Colonnes attendues : [1, x1, x2, x1², x1·x2, x2²]\u001b[39;00m\n\u001b[32m      7\u001b[39m \u001b[38;5;28mprint\u001b[39m(Xp)\n",
      "\u001b[36mCell\u001b[39m\u001b[36m \u001b[39m\u001b[32mIn[5]\u001b[39m\u001b[32m, line 41\u001b[39m, in \u001b[36mpoly_features\u001b[39m\u001b[34m(X, degree, include_bias)\u001b[39m\n\u001b[32m     39\u001b[39m exponents = np.zeros((\u001b[38;5;28mlen\u001b[39m(combs), n_features), dtype=\u001b[38;5;28mint\u001b[39m)\n\u001b[32m     40\u001b[39m \u001b[38;5;28;01mfor\u001b[39;00m i, comb \u001b[38;5;129;01min\u001b[39;00m \u001b[38;5;28menumerate\u001b[39m(combs):\n\u001b[32m---> \u001b[39m\u001b[32m41\u001b[39m     \u001b[43mexponents\u001b[49m\u001b[43m[\u001b[49m\u001b[43mi\u001b[49m\u001b[43m,\u001b[49m\u001b[43m \u001b[49m\u001b[43mnp\u001b[49m\u001b[43m.\u001b[49m\u001b[43mbincount\u001b[49m\u001b[43m(\u001b[49m\u001b[43mcomb\u001b[49m\u001b[43m,\u001b[49m\u001b[43m \u001b[49m\u001b[43mminlength\u001b[49m\u001b[43m=\u001b[49m\u001b[43mn_features\u001b[49m\u001b[43m)\u001b[49m\u001b[43m.\u001b[49m\u001b[43mnonzero\u001b[49m\u001b[43m(\u001b[49m\u001b[43m)\u001b[49m\u001b[43m]\u001b[49m = \\\n\u001b[32m     42\u001b[39m         np.bincount(comb, minlength=n_features)\n\u001b[32m     44\u001b[39m \u001b[38;5;66;03m# 3. Calcul vectorisé des puissances :\u001b[39;00m\n\u001b[32m     45\u001b[39m \u001b[38;5;66;03m#      X[..., None]    -> (n_samples, d_in, 1)\u001b[39;00m\n\u001b[32m     46\u001b[39m \u001b[38;5;66;03m#      exponents.T     -> (d_in, n_terms)\u001b[39;00m\n\u001b[32m     47\u001b[39m \u001b[38;5;66;03m#      => broadcasting produit (n_samples, d_in, n_terms)\u001b[39;00m\n\u001b[32m     48\u001b[39m powered = X[..., \u001b[38;5;28;01mNone\u001b[39;00m] ** exponents.T\n",
      "\u001b[31mValueError\u001b[39m: shape mismatch: value array of shape (2,) could not be broadcast to indexing result of shape (1,1)"
     ]
    }
   ],
   "source": [
    "# Deux variables, degré 2\n",
    "X = np.array([[1., 2.],\n",
    "              [3., 4.]])\n",
    "Xp = poly_features(X, degree=2, include_bias=True)\n",
    "\n",
    "# Colonnes attendues : [1, x1, x2, x1², x1·x2, x2²]\n",
    "print(Xp)\n",
    "# [[1. 1. 2. 1. 2. 4.]\n",
    "#  [1. 3. 4. 9.12.16.]]"
   ]
  }
 ],
 "metadata": {
  "kernelspec": {
   "display_name": ".venv",
   "language": "python",
   "name": "python3"
  },
  "language_info": {
   "codemirror_mode": {
    "name": "ipython",
    "version": 3
   },
   "file_extension": ".py",
   "mimetype": "text/x-python",
   "name": "python",
   "nbconvert_exporter": "python",
   "pygments_lexer": "ipython3",
   "version": "3.11.12"
  }
 },
 "nbformat": 4,
 "nbformat_minor": 2
}
